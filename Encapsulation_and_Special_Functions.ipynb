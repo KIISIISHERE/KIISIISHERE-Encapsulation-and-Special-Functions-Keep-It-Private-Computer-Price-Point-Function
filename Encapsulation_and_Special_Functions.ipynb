{
  "nbformat": 4,
  "nbformat_minor": 0,
  "metadata": {
    "colab": {
      "provenance": [],
      "authorship_tag": "ABX9TyNtBGb5UonKzgt8yQ8n1M7j",
      "include_colab_link": true
    },
    "kernelspec": {
      "name": "python3",
      "display_name": "Python 3"
    },
    "language_info": {
      "name": "python"
    }
  },
  "cells": [
    {
      "cell_type": "markdown",
      "metadata": {
        "id": "view-in-github",
        "colab_type": "text"
      },
      "source": [
        "<a href=\"https://colab.research.google.com/github/KIISIISHERE/KIISIISHERE-Encapsulation-and-Special-Functions-Keep-It-Private-Computer-Price-Point-Function/blob/main/Encapsulation_and_Special_Functions.ipynb\" target=\"_parent\"><img src=\"https://colab.research.google.com/assets/colab-badge.svg\" alt=\"Open In Colab\"/></a>"
      ]
    },
    {
      "cell_type": "code",
      "execution_count": null,
      "metadata": {
        "colab": {
          "base_uri": "https://localhost:8080/"
        },
        "id": "vDZ0pJ_m63zx",
        "outputId": "3ca5fa69-4a53-44dd-b48f-f8dbe61fb22c"
      },
      "outputs": [
        {
          "output_type": "stream",
          "name": "stdout",
          "text": [
            "Enter a value : 2\n",
            "The value of privateVar is : 2\n",
            "This is a private method.\n"
          ]
        }
      ],
      "source": [
        "# Activity 1 : Keep It Private!\n",
        "class MyClass:\n",
        "    def __init__(self, value):\n",
        "        self.__privateVar = value\n",
        "    def __privMeth(self):\n",
        "        print(\"This is a private method.\")\n",
        "    def hello(self):\n",
        "        print(f\"The value of privateVar is : {self.__privateVar}\")\n",
        "    def callPrivateMethod(self):\n",
        "        self.__privMeth()\n",
        "value = int(input(\"Enter a value : \"))\n",
        "obj = MyClass(value)\n",
        "obj.hello()\n",
        "obj.callPrivateMethod()\n"
      ]
    },
    {
      "cell_type": "code",
      "source": [
        "# Activity 2 : Computer Price\n",
        "class Computer:\n",
        "    def __init__(self):\n",
        "        self.__max_price = 50000\n",
        "    def sell(self):\n",
        "        print(f\"\\nCurrent Selling price : {self.__max_price}\")\n",
        "    def setMaxPrice(self, price):\n",
        "        self.__max_price = price\n",
        "print(\"Welcome to the Computer Shop!\")\n",
        "comp = Computer()\n",
        "print(\"\\nInitial price of the computer:\")\n",
        "comp.sell()\n",
        "direct_price = int(input(\"\\nTry setting a new price directly (this won't work a expected): \"))\n",
        "comp.__max_price = direct_price\n",
        "print(\"After attempting to change the price directly:\")\n",
        "comp.sell()\n",
        "setter_price = int(input(\"\\nNow enter a new price using the proper setter method: \"))\n",
        "comp.setMaxPrice(setter_price)\n",
        "print(\"After changing the price using setter:\")\n",
        "comp.sell()\n"
      ],
      "metadata": {
        "id": "MSNRruAo8DTd",
        "colab": {
          "base_uri": "https://localhost:8080/"
        },
        "outputId": "507df8fa-c7ce-4ca7-e191-3d57c0c068e5"
      },
      "execution_count": 10,
      "outputs": [
        {
          "output_type": "stream",
          "name": "stdout",
          "text": [
            "Welcome to the Computer Shop!\n",
            "\n",
            "Initial price of the computer:\n",
            "\n",
            "Current Selling price : 50000\n",
            "\n",
            "Try setting a new price directly (this won't work a expected): 50\n",
            "After attempting to change the price directly:\n",
            "\n",
            "Current Selling price : 50000\n",
            "\n",
            "Now enter a new price using the proper setter method: 50\n",
            "After changing the price using setter:\n",
            "\n",
            "Current Selling price : 50\n"
          ]
        }
      ]
    }
  ]
}