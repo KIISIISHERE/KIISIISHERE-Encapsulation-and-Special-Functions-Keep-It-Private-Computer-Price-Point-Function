{
  "nbformat": 4,
  "nbformat_minor": 0,
  "metadata": {
    "colab": {
      "provenance": [],
      "authorship_tag": "ABX9TyOemN2XUpCaTauaZTSMDyfU",
      "include_colab_link": true
    },
    "kernelspec": {
      "name": "python3",
      "display_name": "Python 3"
    },
    "language_info": {
      "name": "python"
    }
  },
  "cells": [
    {
      "cell_type": "markdown",
      "metadata": {
        "id": "view-in-github",
        "colab_type": "text"
      },
      "source": [
        "<a href=\"https://colab.research.google.com/github/KIISIISHERE/KIISIISHERE-Encapsulation-and-Special-Functions-Keep-It-Private-Computer-Price-Point-Function/blob/main/Encapsulation_and_Special_Functions.ipynb\" target=\"_parent\"><img src=\"https://colab.research.google.com/assets/colab-badge.svg\" alt=\"Open In Colab\"/></a>"
      ]
    },
    {
      "cell_type": "code",
      "execution_count": null,
      "metadata": {
        "colab": {
          "base_uri": "https://localhost:8080/"
        },
        "id": "vDZ0pJ_m63zx",
        "outputId": "3ca5fa69-4a53-44dd-b48f-f8dbe61fb22c"
      },
      "outputs": [
        {
          "output_type": "stream",
          "name": "stdout",
          "text": [
            "Enter a value : 2\n",
            "The value of privateVar is : 2\n",
            "This is a private method.\n"
          ]
        }
      ],
      "source": [
        "# Activity 1 : Keep It Private!\n",
        "class MyClass:\n",
        "    def __init__(self, value):\n",
        "        self.__privateVar = value\n",
        "    def __privMeth(self):\n",
        "        print(\"This is a private method.\")\n",
        "    def hello(self):\n",
        "        print(f\"The value of privateVar is : {self.__privateVar}\")\n",
        "    def callPrivateMethod(self):\n",
        "        self.__privMeth()\n",
        "value = int(input(\"Enter a value : \"))\n",
        "obj = MyClass(value)\n",
        "obj.hello()\n",
        "obj.callPrivateMethod()\n"
      ]
    },
    {
      "cell_type": "code",
      "source": [
        "# Activity 2 : Computer Price\n"
      ],
      "metadata": {
        "id": "MSNRruAo8DTd"
      },
      "execution_count": null,
      "outputs": []
    }
  ]
}